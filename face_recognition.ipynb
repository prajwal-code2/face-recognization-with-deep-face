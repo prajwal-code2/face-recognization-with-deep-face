{
 "cells": [
  {
   "cell_type": "code",
   "execution_count": 1,
   "metadata": {},
   "outputs": [
    {
     "name": "stdout",
     "output_type": "stream",
     "text": [
      "WARNING:tensorflow:From c:\\Python\\lib\\site-packages\\keras\\src\\losses.py:2976: The name tf.losses.sparse_softmax_cross_entropy is deprecated. Please use tf.compat.v1.losses.sparse_softmax_cross_entropy instead.\n",
      "\n"
     ]
    }
   ],
   "source": [
    "# import necessory libraries\n",
    "from deepface import DeepFace\n",
    "import pickle as pkl\n",
    "import cv2\n",
    "import numpy as np"
   ]
  },
  {
   "cell_type": "code",
   "execution_count": 2,
   "metadata": {},
   "outputs": [
    {
     "name": "stdout",
     "output_type": "stream",
     "text": [
      "{'verified': True, 'distance': 0.2713266986140612, 'threshold': 0.593, 'model': 'SFace', 'detector_backend': 'yolov8', 'similarity_metric': 'cosine', 'facial_areas': {'img1': {'x': 297, 'y': 270, 'w': 418, 'h': 493}, 'img2': {'x': 566, 'y': 61, 'w': 274, 'h': 351}}, 'time': 16.32}\n"
     ]
    }
   ],
   "source": [
    "# this block is for verification of 2 faces/images\n",
    "verification = DeepFace.verify(\n",
    "                               img1_path = r\"C:\\Users\\Dell\\Pictures\\me.jpg\"\n",
    "                               ,img2_path = r\"C:\\Users\\Dell\\Pictures\\Camera Roll\\WIN_20230920_19_01_54_Pro.jpg\"\n",
    "                                # img1_path = r\"5.jpg\"\n",
    "                            #    ,img2_path = r\"4.jpg\"\n",
    "                               ,model_name = \"SFace\"\n",
    "                               ,distance_metric=\"cosine\"\n",
    "                               ,detector_backend=\"yolov8\"\n",
    "                               )\n",
    "print(verification)"
   ]
  },
  {
   "cell_type": "code",
   "execution_count": 3,
   "metadata": {},
   "outputs": [
    {
     "name": "stdout",
     "output_type": "stream",
     "text": [
      "24-03-18 23:15:44 - ⚠️ Items ['C:\\\\Users\\\\Dell\\\\Pictures\\\\Screenshots/Screenshot (24).png'] were added into C:\\Users\\Dell\\Pictures just after data source C:\\Users\\Dell\\Pictures/representations_sface.pkl created!\n"
     ]
    },
    {
     "name": "stderr",
     "output_type": "stream",
     "text": [
      "Finding representations: 100%|██████████| 1/1 [00:00<00:00,  2.42it/s]\n"
     ]
    },
    {
     "name": "stdout",
     "output_type": "stream",
     "text": [
      "24-03-18 23:15:44 - 1 new representations are just added whereas 0 represented one(s) are just dropped in C:\\Users\\Dell\\Pictures/representations_sface.pkl file.\n",
      "24-03-18 23:15:44 - There are 50 representations found in representations_sface.pkl\n",
      "24-03-18 23:15:45 - find function lasts 1.258333444595337 seconds\n"
     ]
    }
   ],
   "source": [
    "# this block is for find similar images from a directory\n",
    "dfs= DeepFace.find(img_path=r\"C:\\Users\\Dell\\Pictures\\Aksh_picture.jpg\"\n",
    "                   ,db_path=r\"C:\\Users\\Dell\\Pictures\"\n",
    "                   ,model_name=\"SFace\"\n",
    "                   ,enforce_detection=False\n",
    "                   ,distance_metric='cosine'\n",
    "                   ,detector_backend='yolov8',\n",
    "                   )"
   ]
  },
  {
   "cell_type": "code",
   "execution_count": 4,
   "metadata": {},
   "outputs": [],
   "source": [
    "# this block reads the saved encodings\n",
    "with open(r\"C:\\Users\\Dell\\Pictures\\representations_sface.pkl\",\"rb\") as fp:\n",
    "    data=pkl.load(fp)"
   ]
  },
  {
   "cell_type": "code",
   "execution_count": 63,
   "metadata": {},
   "outputs": [
    {
     "name": "stdout",
     "output_type": "stream",
     "text": [
      "0.9387529573557116\n",
      "0.9609316443324981\n",
      "0.5202863407599017\n",
      "0.9380009486085163\n"
     ]
    }
   ],
   "source": [
    "# this block performs the face recognition\n",
    "image = cv2.imread(r\"C:\\Users\\Dell\\Downloads\\download.jpg\")\n",
    "\n",
    "embedding_objs1 = DeepFace.represent(img_path = r\"C:\\Users\\Dell\\Downloads\\scarlett.jpg\"\n",
    "                ,model_name=\"SFace\"\n",
    "                ,enforce_detection=False\n",
    "                ,detector_backend='yolov8',\n",
    "                )\n",
    "\n",
    "embedding1 = embedding_objs1[0][\"embedding\"]\n",
    "embeddings_list = []\n",
    "for embed in embedding_objs1:\n",
    "    embeddings_list.append(embed)\n",
    "\n",
    "for itr,arr in enumerate(embeddings_list):\n",
    "    dot_product = np.dot(embedding1, arr[\"embedding\"])\n",
    "    magnitude1 = np.linalg.norm(embedding1)\n",
    "    magnitude2 = np.linalg.norm(arr[\"embedding\"])\n",
    "    x , y, w, h = arr['facial_area']['x'], arr['facial_area']['y'], arr['facial_area']['w'], arr['facial_area']['h']\n",
    "    cosine_similarity = dot_product / (magnitude1 * magnitude2)\n",
    "    distance = 1-cosine_similarity\n",
    "    print(distance)\n",
    "    if distance<0.45:\n",
    "        cv2.rectangle(image,(x,y),(x+w,y+h),(0,0,255),2)\n",
    "image = cv2.resize(image,(1366,768))\n",
    "cv2.imshow(\"image\",image)\n",
    "cv2.waitKey(0)\n",
    "cv2.destroyAllWindows()"
   ]
  }
 ],
 "metadata": {
  "kernelspec": {
   "display_name": "Python 3",
   "language": "python",
   "name": "python3"
  },
  "language_info": {
   "codemirror_mode": {
    "name": "ipython",
    "version": 3
   },
   "file_extension": ".py",
   "mimetype": "text/x-python",
   "name": "python",
   "nbconvert_exporter": "python",
   "pygments_lexer": "ipython3",
   "version": "3.10.11"
  }
 },
 "nbformat": 4,
 "nbformat_minor": 2
}
